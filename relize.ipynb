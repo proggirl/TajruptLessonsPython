{
 "cells": [
  {
   "cell_type": "code",
   "execution_count": 11,
   "metadata": {},
   "outputs": [],
   "source": [
    "import os\n",
    "import time\n",
    "os.system ('cls')\n",
    "import cv2\n",
    "import numpy as np\n"
   ]
  },
  {
   "cell_type": "code",
   "execution_count": null,
   "metadata": {},
   "outputs": [],
   "source": [
    "conda install opencv"
   ]
  },
  {
   "cell_type": "code",
   "execution_count": 12,
   "metadata": {},
   "outputs": [
    {
     "ename": "KeyboardInterrupt",
     "evalue": "",
     "output_type": "error",
     "traceback": [
      "\u001b[1;31m---------------------------------------------------------------------------\u001b[0m",
      "\u001b[1;31mKeyboardInterrupt\u001b[0m                         Traceback (most recent call last)",
      "\u001b[1;32m<ipython-input-12-a0d5937de169>\u001b[0m in \u001b[0;36m<module>\u001b[1;34m\u001b[0m\n\u001b[0;32m     50\u001b[0m \u001b[1;33m\u001b[0m\u001b[0m\n\u001b[0;32m     51\u001b[0m \u001b[1;32mwhile\u001b[0m \u001b[1;33m(\u001b[0m\u001b[0mcap\u001b[0m\u001b[1;33m.\u001b[0m\u001b[0misOpened\u001b[0m\u001b[1;33m(\u001b[0m\u001b[1;33m)\u001b[0m\u001b[1;33m)\u001b[0m\u001b[1;33m:\u001b[0m\u001b[1;33m\u001b[0m\u001b[1;33m\u001b[0m\u001b[0m\n\u001b[1;32m---> 52\u001b[1;33m     \u001b[0mret\u001b[0m\u001b[1;33m,\u001b[0m \u001b[0mim\u001b[0m \u001b[1;33m=\u001b[0m \u001b[0mcap\u001b[0m\u001b[1;33m.\u001b[0m\u001b[0mread\u001b[0m\u001b[1;33m(\u001b[0m\u001b[1;33m)\u001b[0m\u001b[1;33m\u001b[0m\u001b[1;33m\u001b[0m\u001b[0m\n\u001b[0m\u001b[0;32m     53\u001b[0m \u001b[1;33m\u001b[0m\u001b[0m\n\u001b[0;32m     54\u001b[0m     \u001b[1;32mif\u001b[0m \u001b[0mret\u001b[0m \u001b[1;33m==\u001b[0m \u001b[1;32mFalse\u001b[0m\u001b[1;33m:\u001b[0m\u001b[1;33m\u001b[0m\u001b[1;33m\u001b[0m\u001b[0m\n",
      "\u001b[1;31mKeyboardInterrupt\u001b[0m: "
     ]
    }
   ],
   "source": [
    "'''\n",
    "Algoritmo 17. Tercer mini proyecto.\n",
    "Luis Humberto Marquez Márquez Alvarez\n",
    "219798763\n",
    "Vision Robotica - 153416\n",
    "Carlos Alberto Lopez Franco\n",
    "'''\n",
    "\n",
    "\n",
    "# VALORES DEL COLOR DEL CUBO\n",
    "azul_min = (105, 63, 50)\n",
    "azul_max = (115, 255, 255)\n",
    "\n",
    "# VIDEO\n",
    "cap = cv2.VideoCapture(0)\n",
    "\n",
    "fps = cap.get(cv2.CAP_PROP_FPS)\n",
    "delay = 1/fps\n",
    "\n",
    "# ESCRITURA DEL VIDEO EN UNO NUEVO\n",
    "ancho = int (cap.get(cv2.CAP_PROP_FRAME_WIDTH))\n",
    "alto = int (cap.get(cv2.CAP_PROP_FRAME_HEIGHT))\n",
    "fourcc = cv2.VideoWriter_fourcc(*'mp4v')\n",
    "out = cv2.VideoWriter ('Deteccion y trayectoria de un objeto.mp4', fourcc, fps, (ancho,alto))\n",
    "\n",
    "# ENCONTRAR OBJETO\n",
    "def objeto(im, mask, color):\n",
    "    contorno, jerarquia = cv2.findContours(mask, cv2.RETR_EXTERNAL, cv2.CHAIN_APPROX_SIMPLE)\n",
    "    c = max(contorno, key = cv2.contourArea)\n",
    "\n",
    "    x, y, w, h, = cv2.boundingRect(c)\n",
    "    cv2.rectangle(im, (x, y), (x+w, y+h), color, 2)\n",
    "\n",
    "    return (round(x+w/2), round(y+h/2))\n",
    "\n",
    "# DETECTA 10 TRAYECTORIAS\n",
    "def append(camino, punto):\n",
    "    if len(camino) > 9:\n",
    "        camino.pop(0)\n",
    "\n",
    "    camino.append(punto)\n",
    "\n",
    "# DIBUJAR LAS TRAYECTORIAS DEL CUBO\n",
    "def dibujar(im, camino, color):\n",
    "    for punto in camino:\n",
    "        cv2. circle(im, punto, 10, color, 3)\n",
    "\n",
    "# LISTA VACIA DE LA TRAYECTORIA RECORRIDA\n",
    "trayectoria = []\n",
    "\n",
    "while (cap.isOpened()):\n",
    "    ret, im = cap.read()\n",
    "\n",
    "    if ret == False:\n",
    "        break\n",
    "\n",
    "    hsv = cv2.cvtColor(im, cv2.COLOR_BGR2HSV)\n",
    "    mask = cv2.inRange(hsv, azul_min, azul_max)\n",
    "\n",
    "    # DIBUJAR CONTORNO\n",
    "    cuadro = objeto(im, mask, (255,0,0))\n",
    "\n",
    "    # AGREGAR LA NUEVA TRAYECTORIA A LA LISTA\n",
    "    append(trayectoria, cuadro)\n",
    "\n",
    "    # DIBUJAR LA NUEVA TRAYECTORIA\n",
    "    dibujar(im, trayectoria, (255, 0, 0))\n",
    "\n",
    "    cv2.imshow('Image', im)\n",
    "\n",
    "    if cv2.waitKey(1) & 0xFF == 27:\n",
    "        break\n",
    "    out.write(im)"
   ]
  },
  {
   "cell_type": "code",
   "execution_count": null,
   "metadata": {},
   "outputs": [],
   "source": []
  },
  {
   "cell_type": "code",
   "execution_count": null,
   "metadata": {},
   "outputs": [],
   "source": []
  },
  {
   "cell_type": "code",
   "execution_count": null,
   "metadata": {},
   "outputs": [],
   "source": []
  }
 ],
 "metadata": {
  "kernelspec": {
   "display_name": "Python 3",
   "language": "python",
   "name": "python3"
  },
  "language_info": {
   "codemirror_mode": {
    "name": "ipython",
    "version": 3
   },
   "file_extension": ".py",
   "mimetype": "text/x-python",
   "name": "python",
   "nbconvert_exporter": "python",
   "pygments_lexer": "ipython3",
   "version": "3.8.5"
  }
 },
 "nbformat": 4,
 "nbformat_minor": 4
}
