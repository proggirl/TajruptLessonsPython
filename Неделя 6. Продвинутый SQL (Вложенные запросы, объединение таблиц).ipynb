{
 "cells": [
  {
   "cell_type": "markdown",
   "metadata": {},
   "source": [
    "<h1 style=\"color: green; text-align: center; font-size:1.5em;\">Продвинутый SQL (Вложенные запросы, объеденение таблиц)</h1>"
   ]
  },
  {
   "cell_type": "code",
   "execution_count": 4,
   "metadata": {},
   "outputs": [],
   "source": [
    "import sqlite3 as sql\n",
    "from sqlite3 import Error"
   ]
  },
  {
   "cell_type": "code",
   "execution_count": 18,
   "metadata": {},
   "outputs": [
    {
     "name": "stdout",
     "output_type": "stream",
     "text": [
      "Database created\n"
     ]
    }
   ],
   "source": [
    "conn = sql.connect(\"BookShop.db\")\n",
    "print(\"Database created\")  if conn else print(\"Database not created\")"
   ]
  },
  {
   "cell_type": "code",
   "execution_count": 19,
   "metadata": {},
   "outputs": [],
   "source": [
    "cur = conn.cursor()"
   ]
  },
  {
   "cell_type": "markdown",
   "metadata": {},
   "source": [
    "CREATE TABLE"
   ]
  },
  {
   "cell_type": "code",
   "execution_count": 54,
   "metadata": {},
   "outputs": [
    {
     "name": "stdout",
     "output_type": "stream",
     "text": [
      "Table Book was created\n"
     ]
    }
   ],
   "source": [
    "createBook = \"\"\"Create table if not exists Books(id_book INTEGER PRIMARY KEY autoincrement, book_title TEXT, \n",
    "pages INTEGER, id_author INTEGER, id_genre INTEGER, \n",
    "FOREIGN KEY(id_author) REFERENCES Authors(id_author) ON UPDATE SET NULL ON DELETE SET NULL);\"\"\"\n",
    "try:\n",
    "    cur.execute(createBook)\n",
    "    print(\"Table Book was created\")\n",
    "except Error as e:\n",
    "    print(f\"Error: {e}\")\n"
   ]
  },
  {
   "cell_type": "code",
   "execution_count": 55,
   "metadata": {},
   "outputs": [
    {
     "name": "stdout",
     "output_type": "stream",
     "text": [
      "Table Author was created\n"
     ]
    }
   ],
   "source": [
    "createAuthor = \"\"\"Create table if not exists Authors(id_author INTEGER PRIMARY KEY autoincrement, name_author TEXT, \n",
    "date_birthday TEXT, gender TEXT);\"\"\"\n",
    "try:\n",
    "    cur.execute(createAuthor)\n",
    "    print(\"Table Author was created\")\n",
    "except Error as e:\n",
    "    print(f\"Error: {e}\")"
   ]
  },
  {
   "cell_type": "markdown",
   "metadata": {},
   "source": [
    "<h2>INSERT DATA TO TABLE</h2>"
   ]
  },
  {
   "cell_type": "code",
   "execution_count": 21,
   "metadata": {},
   "outputs": [
    {
     "name": "stdout",
     "output_type": "stream",
     "text": [
      "Insert data in Books\n"
     ]
    }
   ],
   "source": [
    "books = [(None, \"Война и мир\", 1245, 1, 2), (None, \"Harry Potter\", 356, 2, 3), (None, \"Jane Eyre\", 320, 3, 1)]\n",
    "try:\n",
    "    cur.executemany(\"Insert into Books values(?, ?, ?, ?, ?)\", books)\n",
    "    print(\"Insert data in Books\")\n",
    "except Error as e:\n",
    "    print(f\"Error: {e}\")"
   ]
  },
  {
   "cell_type": "markdown",
   "metadata": {},
   "source": [
    "<h2> ПОДЗАПРОС (SUBQUERY) </h2>"
   ]
  },
  {
   "cell_type": "markdown",
   "metadata": {},
   "source": [
    "<img src=\"images/subquery.jpg\">"
   ]
  },
  {
   "cell_type": "code",
   "execution_count": 29,
   "metadata": {},
   "outputs": [
    {
     "name": "stdout",
     "output_type": "stream",
     "text": [
      "(2, 'Harry Potter', 356, 2, 3)\n",
      "(4, 'Harry Potter and the prisoner of Azkaban', 420, 2, 3)\n",
      "(6, 'Harry Potter', 356, 2, 3)\n"
     ]
    }
   ],
   "source": [
    "select = \"Select * from Books where id_author =  (Select id_author from Authors where name_author = 'Joane Rolling');\"\n",
    "try:\n",
    "    selectByAuthor = cur.execute(select)\n",
    "    res  = selectByAuthor.fetchall()\n",
    "    for row in res:\n",
    "        print(row)\n",
    "\n",
    "except Error as e:\n",
    "    print(f\"Error: {e}\")"
   ]
  },
  {
   "cell_type": "markdown",
   "metadata": {},
   "source": [
    "<img src=\"images/union.png\">"
   ]
  },
  {
   "cell_type": "code",
   "execution_count": 26,
   "metadata": {},
   "outputs": [
    {
     "name": "stdout",
     "output_type": "stream",
     "text": [
      "(1, 'L.N.Tolstoy')\n",
      "(1, 'Война и мир')\n",
      "(2, 'Harry Potter')\n",
      "(2, 'Joane Rolling')\n",
      "(3, 'Jane Eyre')\n",
      "(3, 'Sharlotte Bronte')\n",
      "(4, 'Arthur Connan Doel')\n",
      "(4, 'Harry Potter and the prisoner of Azkaban')\n",
      "(5, 'Война и мир')\n",
      "(6, 'Harry Potter')\n",
      "(7, 'Jane Eyre')\n"
     ]
    }
   ],
   "source": [
    "select = \"Select  id_book, book_title from Books UNION SELECT id_author, name_author  FROM Authors;\"\n",
    "try:\n",
    "    selectByAuthor = cur.execute(select)\n",
    "    res  = selectByAuthor.fetchall()\n",
    "    for row in res:\n",
    "        print(row)\n",
    "\n",
    "except Error as e:\n",
    "    print(f\"Error: {e}\")"
   ]
  },
  {
   "cell_type": "markdown",
   "metadata": {},
   "source": [
    "<h2>СОЕДИНЕНИЕ</h2>\n"
   ]
  },
  {
   "cell_type": "code",
   "execution_count": 31,
   "metadata": {},
   "outputs": [
    {
     "name": "stdout",
     "output_type": "stream",
     "text": [
      "(1, 'Война и мир', 1245, 1, 2, 1, 'L.N.Tolstoy', '1820-02-12', 'male')\n",
      "(3, 'Jane Eyre', 320, 3, 1, 3, 'Sharlotte Bronte', '1895-01-25', 'female')\n",
      "(5, 'Война и мир', 1245, 1, 2, 1, 'L.N.Tolstoy', '1820-02-12', 'male')\n",
      "(7, 'Jane Eyre', 320, 3, 1, 3, 'Sharlotte Bronte', '1895-01-25', 'female')\n"
     ]
    }
   ],
   "source": [
    "select = \"Select * from Books as b, Authors as a where a.id_author = b.id_author and date_birthday Like '18%';\"\n",
    "try:\n",
    "    selectByAuthor = cur.execute(select)\n",
    "    res  = selectByAuthor.fetchall()\n",
    "    for row in res:\n",
    "        print(row)\n",
    "\n",
    "except Error as e:\n",
    "    print(f\"Error: {e}\")"
   ]
  },
  {
   "cell_type": "markdown",
   "metadata": {},
   "source": [
    "<h2>INNER JOIN (СОЕДИНЕНИЕ)</h2>"
   ]
  },
  {
   "cell_type": "markdown",
   "metadata": {},
   "source": [
    "<img src=\"images/innerJoin.gif\">"
   ]
  },
  {
   "cell_type": "code",
   "execution_count": 30,
   "metadata": {},
   "outputs": [
    {
     "name": "stdout",
     "output_type": "stream",
     "text": [
      "('Joane Rolling', 3)\n",
      "('L.N.Tolstoy', 2)\n",
      "('Sharlotte Bronte', 2)\n"
     ]
    }
   ],
   "source": [
    "select = \"\"\"Select a.name_author, COUNT(b.id_book) from Authors as a INNER JOIN \n",
    "Books as b ON a.id_author = b.id_author group by a.name_author;\"\"\"\n",
    "try:\n",
    "    selectByAuthor = cur.execute(select)\n",
    "    res  = selectByAuthor.fetchall()\n",
    "    for row in res:\n",
    "        print(row)\n",
    "\n",
    "except Error as e:\n",
    "    print(f\"Error: {e}\")"
   ]
  },
  {
   "cell_type": "markdown",
   "metadata": {},
   "source": [
    "<h1> LEFT JOIN</h1>"
   ]
  },
  {
   "cell_type": "markdown",
   "metadata": {},
   "source": [
    "<img src=\"images/leftjoin.gif\">"
   ]
  },
  {
   "cell_type": "code",
   "execution_count": 32,
   "metadata": {},
   "outputs": [
    {
     "name": "stdout",
     "output_type": "stream",
     "text": [
      "('L.N.Tolstoy', 'Война и мир', 1245)\n",
      "('L.N.Tolstoy', 'Война и мир', 1245)\n",
      "('Joane Rolling', 'Harry Potter', 356)\n",
      "('Joane Rolling', 'Harry Potter', 356)\n",
      "('Joane Rolling', 'Harry Potter and the prisoner of Azkaban', 420)\n",
      "('Sharlotte Bronte', 'Jane Eyre', 320)\n",
      "('Sharlotte Bronte', 'Jane Eyre', 320)\n",
      "('Arthur Connan Doel', None, None)\n"
     ]
    }
   ],
   "source": [
    "select = \"Select name_author, book_title, pages from Authors as a LEFT JOIN Books as b ON a.id_author = b.id_author;\"\n",
    "try:\n",
    "    selectByAuthor = cur.execute(select)\n",
    "    res  = selectByAuthor.fetchall()\n",
    "    for row in res:\n",
    "        print(row)\n",
    "\n",
    "except Error as e:\n",
    "    print(f\"Error: {e}\")"
   ]
  },
  {
   "cell_type": "code",
   "execution_count": 34,
   "metadata": {},
   "outputs": [
    {
     "name": "stdout",
     "output_type": "stream",
     "text": [
      "('L.N.Tolstoy', 'Война и мир', 1245)\n",
      "('L.N.Tolstoy', 'Война и мир', 1245)\n",
      "('Joane Rolling', 'Harry Potter', 356)\n",
      "('Joane Rolling', 'Harry Potter', 356)\n",
      "('Joane Rolling', 'Harry Potter and the prisoner of Azkaban', 420)\n",
      "('Sharlotte Bronte', 'Jane Eyre', 320)\n",
      "('Sharlotte Bronte', 'Jane Eyre', 320)\n"
     ]
    }
   ],
   "source": [
    "select = \"Select a.name_author, b.book_title, b.pages from Authors as a CROSS JOIN Books as b ON a.id_author = b.id_author;\"\n",
    "try:\n",
    "    selectByAuthor = cur.execute(select)\n",
    "    res  = selectByAuthor.fetchall()\n",
    "    for row in res:\n",
    "        print(row)\n",
    "\n",
    "except Error as e:\n",
    "    print(f\"Error: {e}\")"
   ]
  },
  {
   "cell_type": "markdown",
   "metadata": {},
   "source": [
    "<p>Предложение <code>HAVING</code> позволяет указать условия, которые фильтруют результаты групп в итоговых результатах. Предложение <code>WHERE</code> устанавливает условия для выбранных столбцов, тогда как предложение <code>HAVING</code> устанавливает условия для групп, созданных предложением <code>GROUP BY</code>.</p>\n",
    "\n",
    "<p>Ниже приведена позиция предложения <code>HAVING</code> в запросе <code>SELECT</code>.</p>"
   ]
  },
  {
   "cell_type": "code",
   "execution_count": 15,
   "metadata": {},
   "outputs": [],
   "source": [
    "conn.commit()"
   ]
  },
  {
   "cell_type": "code",
   "execution_count": 50,
   "metadata": {},
   "outputs": [
    {
     "name": "stdout",
     "output_type": "stream",
     "text": [
      "Database created\n"
     ]
    }
   ],
   "source": [
    "conn = sql.connect(\"chinook.db\")\n",
    "print(\"Database created\")  if conn else print(\"Database not created\")"
   ]
  },
  {
   "cell_type": "code",
   "execution_count": 52,
   "metadata": {},
   "outputs": [
    {
     "data": {
      "text/plain": [
       "<sqlite3.Cursor at 0xdbfee0>"
      ]
     },
     "execution_count": 52,
     "metadata": {},
     "output_type": "execute_result"
    }
   ],
   "source": [
    "cur.execute(\"PRAGMA foreign_keys = ON;\")"
   ]
  },
  {
   "cell_type": "code",
   "execution_count": 16,
   "metadata": {},
   "outputs": [],
   "source": [
    "conn.close()"
   ]
  }
 ],
 "metadata": {
  "kernelspec": {
   "display_name": "Python 3",
   "language": "python",
   "name": "python3"
  },
  "language_info": {
   "codemirror_mode": {
    "name": "ipython",
    "version": 3
   },
   "file_extension": ".py",
   "mimetype": "text/x-python",
   "name": "python",
   "nbconvert_exporter": "python",
   "pygments_lexer": "ipython3",
   "version": "3.8.5"
  }
 },
 "nbformat": 4,
 "nbformat_minor": 2
}
