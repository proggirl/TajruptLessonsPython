{
 "cells": [
  {
   "cell_type": "markdown",
   "metadata": {},
   "source": [
    "<img src = \"scheme.png\" >"
   ]
  },
  {
   "cell_type": "code",
   "execution_count": 5,
   "metadata": {},
   "outputs": [],
   "source": [
    "import sqlite3 as sql\n",
    "from sqlite3 import Error"
   ]
  },
  {
   "cell_type": "markdown",
   "metadata": {},
   "source": [
    "<style>\n",
    "    .color{\n",
    "    color: red;\n",
    "    font-size: 1.25em;\n",
    "    }\n",
    "</style>"
   ]
  },
  {
   "cell_type": "code",
   "execution_count": 6,
   "metadata": {},
   "outputs": [
    {
     "name": "stdout",
     "output_type": "stream",
     "text": [
      "Database created\n"
     ]
    }
   ],
   "source": [
    "conn = sql.connect(\"chinook.db\")\n",
    "print(\"Database was created\")  if conn else print(\"Database not created\")"
   ]
  },
  {
   "cell_type": "code",
   "execution_count": 7,
   "metadata": {},
   "outputs": [],
   "source": [
    "cur = conn.cursor()"
   ]
  },
  {
   "cell_type": "markdown",
   "metadata": {},
   "source": [
    "<p style = \"Color:  darkgreen; font-size: 1.25em\" >1) Получить все сведения о жанрах, в названиях которых содержится буква r</p>"
   ]
  },
  {
   "cell_type": "code",
   "execution_count": 14,
   "metadata": {},
   "outputs": [
    {
     "name": "stdout",
     "output_type": "stream",
     "text": [
      "(1, 'Rock')\n",
      "(4, 'Alternative & Punk')\n",
      "(5, 'Rock And Roll')\n"
     ]
    }
   ],
   "source": [
    "genres = cur.execute(\"Select * from genres where name like '%r%';\")\n",
    "for genre in genres.fetchmany(3):\n",
    "    print(genre)"
   ]
  },
  {
   "cell_type": "markdown",
   "metadata": {},
   "source": [
    "<p style = \"Color:  darkgreen; font-size: 1.25em\">2) Вывести названия альбомов артистов, которые содержат треки, написанных в жанре Rock</p>"
   ]
  },
  {
   "cell_type": "code",
   "execution_count": 23,
   "metadata": {},
   "outputs": [
    {
     "name": "stdout",
     "output_type": "stream",
     "text": [
      "('For Those About To Rock We Salute You',)\n",
      "('Balls to the Wall',)\n",
      "('Restless and Wild',)\n",
      "('Let There Be Rock',)\n",
      "('Big Ones',)\n",
      "('Jagged Little Pill',)\n",
      "('Facelift',)\n",
      "('Audioslave',)\n",
      "('BBC Sessions [Disc 1] [Live]',)\n",
      "('Bongo Fury',)\n",
      "('Greatest Hits II',)\n",
      "('Greatest Kiss',)\n",
      "('Into The Light',)\n",
      "('MK III The Final Concerts [Disc 1]',)\n",
      "('Physical Graffiti [Disc 1]',)\n",
      "('Supernatural',)\n",
      "('The Final Concerts (Disc 2)',)\n",
      "('Chronicle, Vol. 1',)\n",
      "('Chronicle, Vol. 2',)\n",
      "('Come Taste The Band',)\n",
      "('Deep Purple In Rock',)\n",
      "('Fireball',)\n",
      "(\"Knocking at Your Back Door: The Best Of Deep Purple in the 80's\",)\n",
      "('Machine Head',)\n",
      "('Purpendicular',)\n",
      "('Slaves And Masters',)\n",
      "('Stormbringer',)\n",
      "('The Battle Rages On',)\n",
      "(\"Vault: Def Leppard's Greatest Hits\",)\n",
      "('King For A Day Fool For A Lifetime',)\n",
      "('In Your Honor [Disc 1]',)\n",
      "('In Your Honor [Disc 2]',)\n",
      "('The Colour And The Shape',)\n",
      "('Appetite for Destruction',)\n",
      "('Use Your Illusion I',)\n",
      "('A Matter of Life and Death',)\n",
      "('Brave New World',)\n",
      "('Fear Of The Dark',)\n",
      "('Live At Donington 1992 (Disc 1)',)\n",
      "('Live At Donington 1992 (Disc 2)',)\n",
      "('Rock In Rio [CD2]',)\n",
      "('The Number of The Beast',)\n",
      "('The X Factor',)\n",
      "('Virtual XI',)\n",
      "('Emergency On Planet Earth',)\n",
      "('Are You Experienced?',)\n",
      "('Surfing with the Alien (Remastered)',)\n",
      "('Unplugged [Live]',)\n",
      "('BBC Sessions [Disc 2] [Live]',)\n",
      "('Coda',)\n",
      "('Houses Of The Holy',)\n",
      "('In Through The Out Door',)\n",
      "('IV',)\n",
      "('Led Zeppelin I',)\n",
      "('Led Zeppelin II',)\n",
      "('Led Zeppelin III',)\n",
      "('Physical Graffiti [Disc 2]',)\n",
      "('Presence',)\n",
      "('The Song Remains The Same (Disc 1)',)\n",
      "('The Song Remains The Same (Disc 2)',)\n",
      "('Greatest Hits',)\n",
      "('Misplaced Childhood',)\n",
      "('The Best Of Men At Work',)\n",
      "('From The Muddy Banks Of The Wishkah [Live]',)\n",
      "('Nevermind',)\n",
      "('Compositores',)\n",
      "('Bark at the Moon (Remastered)',)\n",
      "('Blizzard of Ozz',)\n",
      "('Diary of a Madman (Remastered)',)\n",
      "('No More Tears (Remastered)',)\n",
      "('Walking Into Clarksdale',)\n",
      "('The Beast Live',)\n",
      "('Live On Two Legs [Live]',)\n",
      "('Riot Act',)\n",
      "('Ten',)\n",
      "('Vs.',)\n",
      "('Dark Side Of The Moon',)\n",
      "('Greatest Hits I',)\n",
      "('News Of The World',)\n",
      "('New Adventures In Hi-Fi',)\n",
      "('Raul Seixas',)\n",
      "('By The Way',)\n",
      "('Californication',)\n",
      "('Retrospective I (1974-1980)',)\n",
      "('Santana - As Years Go By',)\n",
      "('Santana Live',)\n",
      "('Maquinarama',)\n",
      "('O Samba Poconé',)\n",
      "('A-Sides',)\n",
      "('Core',)\n",
      "('[1997] Black Light Syndrome',)\n",
      "('Beyond Good And Evil',)\n",
      "('Pure Cult: The Best Of The Cult (For Rockers, Ravers, Lovers & Sinners) [UK]',)\n",
      "('The Doors',)\n",
      "('The Police Greatest Hits',)\n",
      "('Hot Rocks, 1964-1971 (Disc 1)',)\n",
      "('No Security',)\n",
      "('Voodoo Lounge',)\n",
      "('My Generation - The Very Best Of The Who',)\n",
      "('Achtung Baby',)\n",
      "(\"All That You Can't Leave Behind\",)\n",
      "('B-Sides 1980-1990',)\n",
      "('How To Dismantle An Atomic Bomb',)\n",
      "('Pop',)\n",
      "('Rattle And Hum',)\n",
      "('The Best Of 1980-1990',)\n",
      "('War',)\n",
      "('Zooropa',)\n",
      "('Diver Down',)\n",
      "('The Best Of Van Halen, Vol. I',)\n",
      "('Van Halen',)\n",
      "('Van Halen III',)\n",
      "('Contraband',)\n",
      "('Un-Led-Ed',)\n",
      "('Speak of the Devil',)\n",
      "('20th Century Masters - The Millennium Collection: The Best of Scorpions',)\n",
      "('Every Kind of Light',)\n"
     ]
    }
   ],
   "source": [
    "select = cur.execute(\"\"\"SELECT DISTINCT alb.title FROM albums alb INNER JOIN tracks tr INNER JOIN genres gen \n",
    "ON alb.AlbumId = tr.AlbumId AND tr.GenreId = gen.GenreId \n",
    "WHERE tr.GenreId = (SELECT GenreId FROM genres WHERE name = 'Rock')\"\"\")\n",
    "for row in select.fetchall():\n",
    "    print(row)"
   ]
  },
  {
   "cell_type": "markdown",
   "metadata": {},
   "source": [
    "<p style = \"Color:  darkgreen; font-size: 1.25em\">3) Вывести названия плейлистов с указанием количества треков в них</p>"
   ]
  },
  {
   "cell_type": "code",
   "execution_count": 21,
   "metadata": {},
   "outputs": [
    {
     "name": "stdout",
     "output_type": "stream",
     "text": [
      "('90’s Music', 1477)\n",
      "('Brazilian Music', 39)\n",
      "('Classical', 75)\n",
      "('Classical 101 - Deep Cuts', 25)\n",
      "('Classical 101 - Next Steps', 25)\n",
      "('Classical 101 - The Basics', 25)\n",
      "('Grunge', 15)\n",
      "('Heavy Metal Classic', 26)\n",
      "('Music', 6580)\n",
      "('Music Videos', 1)\n",
      "('On-The-Go 1', 1)\n",
      "('TV Shows', 426)\n"
     ]
    }
   ],
   "source": [
    "select = cur.execute(\"\"\"Select p.name, Count(pt.TrackId) from playlists as p, playlist_track as pt where \n",
    "p.PlaylistId =  pt.PlaylistId GROUP BY p.name\"\"\")\n",
    "for row in select.fetchall():\n",
    "    print(row)"
   ]
  },
  {
   "cell_type": "markdown",
   "metadata": {},
   "source": [
    "<p style = \"Color:  darkgreen; font-size: 1.25em\">4) Вывести названия плейлистов, содержающие более 500 треков</p>"
   ]
  },
  {
   "cell_type": "code",
   "execution_count": 19,
   "metadata": {},
   "outputs": [
    {
     "name": "stdout",
     "output_type": "stream",
     "text": [
      "('90’s Music', 1477)\n",
      "('Music', 6580)\n"
     ]
    }
   ],
   "source": [
    "genres = cur.execute(\"\"\"Select p.name, Count(pt.TrackId) as count_track from playlists as p, playlist_track as pt where \n",
    "p.PlaylistId =  pt.PlaylistId GROUP BY p.name HAVING count_track > 500\"\"\")\n",
    "for genre in genres.fetchall():\n",
    "    print(genre)"
   ]
  },
  {
   "cell_type": "markdown",
   "metadata": {},
   "source": [
    "<p style = \"Color:  darkgreen; font-size: 1.25em\">5) Вывести все сведения о треках с типом файлов AAC audio file</p>"
   ]
  },
  {
   "cell_type": "code",
   "execution_count": 25,
   "metadata": {},
   "outputs": [
    {
     "name": "stdout",
     "output_type": "stream",
     "text": [
      "(3349, 'Amanda', 262, 5, 2, 'Luca Gusella', 246503, 4011615, 0.99)\n",
      "(3350, 'Despertar', 262, 5, 2, 'Andrea Dulbecco', 307385, 4821485, 0.99)\n",
      "(3351, 'Din Din Wo (Little Child)', 263, 5, 16, 'Habib Koité', 285837, 4615841, 0.99)\n",
      "(3352, 'Distance', 264, 5, 15, 'Karsh Kale/Vishal Vaid', 327122, 5327463, 0.99)\n",
      "(3353, \"I Guess You're Right\", 265, 5, 1, 'Darius \"Take One\" Minwalla/Jon Auer/Ken Stringfellow/Matt Harris', 212044, 3453849, 0.99)\n",
      "(3354, 'I Ka Barra (Your Work)', 263, 5, 16, 'Habib Koité', 300605, 4855457, 0.99)\n",
      "(3355, 'Love Comes', 265, 5, 1, 'Darius \"Take One\" Minwalla/Jon Auer/Ken Stringfellow/Matt Harris', 199923, 3240609, 0.99)\n",
      "(3356, 'Muita Bobeira', 266, 5, 7, 'Luciana Souza', 172710, 2775071, 0.99)\n",
      "(3357, \"OAM's Blues\", 267, 5, 2, 'Aaron Goldberg', 266936, 4292028, 0.99)\n",
      "(3358, 'One Step Beyond', 264, 5, 15, 'Karsh Kale', 366085, 6034098, 0.99)\n",
      "(3359, 'Symphony No. 3 in E-flat major, Op. 55, \"Eroica\" - Scherzo: Allegro Vivace', 268, 5, 24, 'Ludwig van Beethoven', 356426, 5817216, 0.99)\n"
     ]
    }
   ],
   "source": [
    "genres = cur.execute(\"\"\"Select * from tracks where MediaTypeId = (Select MediaTypeId from media_types where \n",
    "name = 'AAC audio file');\"\"\")\n",
    "for genre in genres.fetchall():\n",
    "    print(genre)"
   ]
  },
  {
   "cell_type": "markdown",
   "metadata": {},
   "source": [
    "<p style = \"Color:  darkgreen; font-size: 1.25em\">6) Объединения имен сотрудников и клиентов в единый список</p>"
   ]
  },
  {
   "cell_type": "code",
   "execution_count": 16,
   "metadata": {},
   "outputs": [
    {
     "name": "stdout",
     "output_type": "stream",
     "text": [
      "('Aaron', 'Mitchell', 'Customer')\n",
      "('Alexandre', 'Rocha', 'Customer')\n",
      "('Andrew', 'Adams', 'Employee')\n",
      "('Astrid', 'Gruber', 'Customer')\n",
      "('Bjørn', 'Hansen', 'Customer')\n",
      "('Camille', 'Bernard', 'Customer')\n",
      "('Daan', 'Peeters', 'Customer')\n",
      "('Dan', 'Miller', 'Customer')\n",
      "('Diego', 'Gutiérrez', 'Customer')\n",
      "('Dominique', 'Lefebvre', 'Customer')\n",
      "('Eduardo', 'Martins', 'Customer')\n",
      "('Edward', 'Francis', 'Customer')\n",
      "('Ellie', 'Sullivan', 'Customer')\n",
      "('Emma', 'Jones', 'Customer')\n",
      "('Enrique', 'Muñoz', 'Customer')\n",
      "('Fernanda', 'Ramos', 'Customer')\n",
      "('Frank', 'Harris', 'Customer')\n",
      "('Frank', 'Ralston', 'Customer')\n",
      "('František', 'Wichterlová', 'Customer')\n",
      "('François', 'Tremblay', 'Customer')\n",
      "('Fynn', 'Zimmermann', 'Customer')\n",
      "('Hannah', 'Schneider', 'Customer')\n",
      "('Heather', 'Leacock', 'Customer')\n",
      "('Helena', 'Holý', 'Customer')\n",
      "('Hugh', \"O'Reilly\", 'Customer')\n",
      "('Isabelle', 'Mercier', 'Customer')\n",
      "('Jack', 'Smith', 'Customer')\n",
      "('Jane', 'Peacock', 'Employee')\n",
      "('Jennifer', 'Peterson', 'Customer')\n",
      "('Joakim', 'Johansson', 'Customer')\n",
      "('Johannes', 'Van der Berg', 'Customer')\n",
      "('John', 'Gordon', 'Customer')\n",
      "('João', 'Fernandes', 'Customer')\n",
      "('Julia', 'Barnett', 'Customer')\n",
      "('Kara', 'Nielsen', 'Customer')\n",
      "('Kathy', 'Chase', 'Customer')\n",
      "('Ladislav', 'Kovács', 'Customer')\n",
      "('Laura', 'Callahan', 'Employee')\n",
      "('Leonie', 'Köhler', 'Customer')\n",
      "('Lucas', 'Mancini', 'Customer')\n",
      "('Luis', 'Rojas', 'Customer')\n",
      "('Luís', 'Gonçalves', 'Customer')\n",
      "('Madalena', 'Sampaio', 'Customer')\n",
      "('Manoj', 'Pareek', 'Customer')\n",
      "('Marc', 'Dubois', 'Customer')\n",
      "('Margaret', 'Park', 'Employee')\n",
      "('Mark', 'Philips', 'Customer')\n",
      "('Mark', 'Taylor', 'Customer')\n",
      "('Martha', 'Silk', 'Customer')\n",
      "('Michael', 'Mitchell', 'Employee')\n",
      "('Michelle', 'Brooks', 'Customer')\n",
      "('Nancy', 'Edwards', 'Employee')\n",
      "('Niklas', 'Schröder', 'Customer')\n",
      "('Patrick', 'Gray', 'Customer')\n",
      "('Phil', 'Hughes', 'Customer')\n",
      "('Puja', 'Srivastava', 'Customer')\n",
      "('Richard', 'Cunningham', 'Customer')\n",
      "('Robert', 'Brown', 'Customer')\n",
      "('Robert', 'King', 'Employee')\n",
      "('Roberto', 'Almeida', 'Customer')\n",
      "('Stanisław', 'Wójcik', 'Customer')\n",
      "('Steve', 'Johnson', 'Employee')\n",
      "('Steve', 'Murray', 'Customer')\n",
      "('Terhi', 'Hämäläinen', 'Customer')\n",
      "('Tim', 'Goyer', 'Customer')\n",
      "('Victor', 'Stevens', 'Customer')\n",
      "('Wyatt', 'Girard', 'Customer')\n"
     ]
    }
   ],
   "source": [
    "union = cur.execute(\"\"\"\n",
    "SELECT FirstName, LastName, 'Employee' AS Type\n",
    "FROM employees\n",
    "UNION\n",
    "SELECT FirstName, LastName, 'Customer'\n",
    "FROM customers ORDER BY FirstName, LastName;\n",
    "\"\"\")\n",
    "for row in union.fetchall():\n",
    "    print(row)\n"
   ]
  }
 ],
 "metadata": {
  "kernelspec": {
   "display_name": "Python 3",
   "language": "python",
   "name": "python3"
  },
  "language_info": {
   "codemirror_mode": {
    "name": "ipython",
    "version": 3
   },
   "file_extension": ".py",
   "mimetype": "text/x-python",
   "name": "python",
   "nbconvert_exporter": "python",
   "pygments_lexer": "ipython3",
   "version": "3.7.3"
  }
 },
 "nbformat": 4,
 "nbformat_minor": 2
}
